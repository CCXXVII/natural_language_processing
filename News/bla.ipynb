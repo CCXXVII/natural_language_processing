{
 "cells": [
  {
   "cell_type": "code",
   "execution_count": 4,
   "metadata": {},
   "outputs": [],
   "source": [
    "import os;\n",
    "path = \"S:\\\\Projects\\\\NLP\\\\Final\\\\dunya\"\n",
    "list = []\n",
    "for genre_name in os.listdir(path):\n",
    "    path_to_genre = path + \"\\\\\" + genre_name\n",
    "    for file_name in os.listdir(path_to_genre):\n",
    "        path_to_new = f\"{path_to_genre}/{file_name}\"\n",
    "        with open(path_to_new, \"rb\") as f:\n",
    "            new = f.read().decode(\"utf-8\").replace(\"\\n\", \"\").replace(\"\\r\", \"\").splitlines();\n",
    "            list.append(new)\n",
    "            "
   ]
  }
 ],
 "metadata": {
  "kernelspec": {
   "display_name": "Python 3",
   "language": "python",
   "name": "python3"
  },
  "language_info": {
   "codemirror_mode": {
    "name": "ipython",
    "version": 3
   },
   "file_extension": ".py",
   "mimetype": "text/x-python",
   "name": "python",
   "nbconvert_exporter": "python",
   "pygments_lexer": "ipython3",
   "version": "3.10.4"
  },
  "orig_nbformat": 4,
  "vscode": {
   "interpreter": {
    "hash": "4e0347718afc69be7b1c23768afdbedb062dd9a48333758dd9b559c5248491fc"
   }
  }
 },
 "nbformat": 4,
 "nbformat_minor": 2
}
